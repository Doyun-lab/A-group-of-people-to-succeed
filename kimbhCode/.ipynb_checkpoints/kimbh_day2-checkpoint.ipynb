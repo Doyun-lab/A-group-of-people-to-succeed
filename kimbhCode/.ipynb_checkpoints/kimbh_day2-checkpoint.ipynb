{
 "cells": [
  {
   "cell_type": "code",
   "execution_count": 10,
   "metadata": {},
   "outputs": [
    {
     "name": "stdout",
     "output_type": "stream",
     "text": [
      "5\n",
      "5\n",
      "4\n",
      "3\n",
      "2\n",
      "1\n"
     ]
    }
   ],
   "source": [
    "# 문제 1074\n",
    "a = int(input()) + 1\n",
    "\n",
    "while a > 0:\n",
    "    a -= 1\n",
    "    print(a)\n",
    "    if a==1:\n",
    "        break"
   ]
  },
  {
   "cell_type": "code",
   "execution_count": null,
   "metadata": {},
   "outputs": [],
   "source": [
    "# 문제 1721\n",
    "import math\n",
    "a = input().split()\n",
    "b = input().split()\n",
    "\n",
    "print('%0.2f' % math.sqrt((int(a[0]) - int(b[0]))**2 + (int(a[1]) - int(b[1]))**2))"
   ]
  },
  {
   "cell_type": "code",
   "execution_count": 36,
   "metadata": {},
   "outputs": [
    {
     "name": "stdout",
     "output_type": "stream",
     "text": [
      "0 0 0 1 1 1 1 0 0 0\n",
      "['0', '0', '0', '1', '1', '1', '1', '0', '0', '0']\n",
      "0 0 0 1 1 1 1 0 0 0\n",
      "['0', '0', '0', '1', '1', '1', '1', '0', '0', '0']\n",
      "1 1 1 0 0 0 0 1 1 1\n",
      "['1', '1', '1', '0', '0', '0', '0', '1', '1', '1']\n",
      "1 0 1 0 0 0 0 1 0 1\n",
      "['1', '0', '1', '0', '0', '0', '0', '1', '0', '1']\n",
      "1 1 1 0 1 1 0 1 1 1\n",
      "['1', '1', '1', '0', '1', '1', '0', '1', '1', '1']\n",
      "0 0 0 0 1 1 0 0 0 0\n",
      "['0', '0', '0', '0', '1', '1', '0', '0', '0', '0']\n",
      "1 1 1 1 0 0 1 1 1 1\n",
      "['1', '1', '1', '1', '0', '0', '1', '1', '1', '1']\n",
      "1 0 0 1 0 0 1 0 0 1\n",
      "['1', '0', '0', '1', '0', '0', '1', '0', '0', '1']\n",
      "1 0 0 1 0 0 1 0 0 1\n",
      "['1', '0', '0', '1', '0', '0', '1', '0', '0', '1']\n",
      "1 1 1 1 0 0 1 1 1 1\n",
      "['1', '1', '1', '1', '0', '0', '1', '1', '1', '1']\n"
     ]
    }
   ],
   "source": [
    "# 문제 2779\n",
    "i = 0\n",
    "while i < 10:\n",
    "    i += 1\n",
    "    globals()['area_{}'.format(i)] = input().split()\n",
    "    print(globals()['area_{}'.format(i)])\n",
    "    \n",
    "area = []\n",
    "for i in range(10):\n",
    "    area.append(globals()['area_{}'.format(i+1)])\n",
    "    \n",
    "for i in range(10):\n",
    "    globals()['index{}'.format(i+1)] = [i for i, value in enumerate(area[i]) if value == '1']\n",
    "    \n",
    "indexs = []\n",
    "for i in range(10):\n",
    "    indexs.append(globals()['index{}'.format(i+1)])\n",
    "    \n",
    "pred = []\n",
    "after = []\n",
    "for i in range(10):\n",
    "    for idx, values in enumerate(indexs[i]):\n",
    "        if i == 1:    \n",
    "            pred = indexs[i]\n",
    "        else:\n",
    "            for k in range(len(pred)):\n",
    "                if k == len(pred):\n",
    "                    pred = indexs[i]\n",
    "                if pred[k] == values:\n",
    "                    after.append(str(values) + '_' + str(idx))"
   ]
  },
  {
   "cell_type": "code",
   "execution_count": 85,
   "metadata": {},
   "outputs": [
    {
     "data": {
      "text/plain": [
       "['4_3',\n",
       " '5_4',\n",
       " '4_0',\n",
       " '5_1',\n",
       " '3_3',\n",
       " '6_4',\n",
       " '3_1',\n",
       " '6_2',\n",
       " '3_1',\n",
       " '6_2',\n",
       " '3_3',\n",
       " '6_4']"
      ]
     },
     "execution_count": 85,
     "metadata": {},
     "output_type": "execute_result"
    }
   ],
   "source": [
    "after"
   ]
  },
  {
   "cell_type": "code",
   "execution_count": null,
   "metadata": {},
   "outputs": [],
   "source": []
  }
 ],
 "metadata": {
  "kernelspec": {
   "display_name": "DL_gallery",
   "language": "python",
   "name": "dl_gallery"
  },
  "language_info": {
   "codemirror_mode": {
    "name": "ipython",
    "version": 3
   },
   "file_extension": ".py",
   "mimetype": "text/x-python",
   "name": "python",
   "nbconvert_exporter": "python",
   "pygments_lexer": "ipython3",
   "version": "3.6.10"
  }
 },
 "nbformat": 4,
 "nbformat_minor": 2
}
