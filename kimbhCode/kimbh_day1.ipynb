{
 "cells": [
  {
   "cell_type": "code",
   "execution_count": 1,
   "metadata": {},
   "outputs": [
    {
     "name": "stdout",
     "output_type": "stream",
     "text": [
      "1\n",
      "odd\n"
     ]
    }
   ],
   "source": [
    "# 문제 1156\n",
    "a = int(input())\n",
    "if a % 2 == 0:\n",
    "    print('even')\n",
    "else:\n",
    "    print('odd')"
   ]
  },
  {
   "cell_type": "code",
   "execution_count": 3,
   "metadata": {},
   "outputs": [
    {
     "name": "stdout",
     "output_type": "stream",
     "text": [
      "20\n",
      "30\n",
      "10\n",
      "40\n",
      "50\n",
      "30\n",
      "30\n"
     ]
    }
   ],
   "source": [
    "# 문제 4531\n",
    "a = int(input())\n",
    "b = int(input())\n",
    "c = int(input())\n",
    "d = int(input())\n",
    "e = int(input())\n",
    "\n",
    "f = [a,b,c,d,e]\n",
    "g = sorted(f)\n",
    "\n",
    "print(int((a+b+c+d+e)/5))\n",
    "print(g[2])"
   ]
  },
  {
   "cell_type": "code",
   "execution_count": 4,
   "metadata": {},
   "outputs": [
    {
     "name": "stdout",
     "output_type": "stream",
     "text": [
      "79\n",
      "79\n",
      "51\n",
      "37\n",
      "85\n",
      "16\n",
      "28\n",
      "85\n",
      "79\n"
     ]
    }
   ],
   "source": [
    "# 문제 4501\n",
    "a = int(input())\n",
    "b = int(input())\n",
    "c = int(input())\n",
    "d = int(input())\n",
    "e = int(input())\n",
    "f = int(input())\n",
    "g = int(input())\n",
    "\n",
    "h = [a,b,c,d,e,f,g]\n",
    "\n",
    "i = sorted(h)\n",
    "\n",
    "print(i[6])\n",
    "print(i[5])"
   ]
  }
 ],
 "metadata": {
  "kernelspec": {
   "display_name": "DL_gallery",
   "language": "python",
   "name": "dl_gallery"
  },
  "language_info": {
   "codemirror_mode": {
    "name": "ipython",
    "version": 3
   },
   "file_extension": ".py",
   "mimetype": "text/x-python",
   "name": "python",
   "nbconvert_exporter": "python",
   "pygments_lexer": "ipython3",
   "version": "3.6.10"
  }
 },
 "nbformat": 4,
 "nbformat_minor": 2
}
