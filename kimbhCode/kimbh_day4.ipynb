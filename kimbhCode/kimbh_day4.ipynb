{
 "cells": [
  {
   "cell_type": "code",
   "execution_count": 1,
   "metadata": {},
   "outputs": [
    {
     "name": "stdout",
     "output_type": "stream",
     "text": [
      "3 1 2\n",
      "3102\n"
     ]
    }
   ],
   "source": [
    "# 문제 1170\n",
    "a = input().split()\n",
    "\n",
    "if int(a[2]) < 10:\n",
    "    print(a[0]+a[1]+'0'+a[2])\n",
    "else:\n",
    "    print(a[0]+a[1]+a[2])"
   ]
  },
  {
   "cell_type": "code",
   "execution_count": 4,
   "metadata": {},
   "outputs": [
    {
     "name": "stdout",
     "output_type": "stream",
     "text": [
      "5\n",
      "3 5 7 15 2\n",
      "20\n"
     ]
    }
   ],
   "source": [
    "# 문제 1267\n",
    "a = int(input())\n",
    "b = input().split()\n",
    "\n",
    "c = []\n",
    "for i, num in enumerate(b):\n",
    "    if int(num) % 5 == 0:\n",
    "        c.append(int(num))\n",
    "\n",
    "d = 0\n",
    "for i in c:\n",
    "    d += i\n",
    "\n",
    "print(d)"
   ]
  },
  {
   "cell_type": "code",
   "execution_count": 13,
   "metadata": {},
   "outputs": [
    {
     "name": "stdout",
     "output_type": "stream",
     "text": [
      "10\n",
      "1 3 2 2 5 6 7 4 5 9\n",
      "1 2 1 1 2 1 1 0 1 0 0 0 0 0 0 0 0 0 0 0 0 0 0 "
     ]
    }
   ],
   "source": [
    "# 문제 1093\n",
    "a = int(input())\n",
    "b = input().split()\n",
    "\n",
    "c = []\n",
    "for i in range(23):\n",
    "    c.append(0)\n",
    "\n",
    "for i, num in enumerate(b):\n",
    "    c[int(num)-1] += 1\n",
    "\n",
    "for i in c:\n",
    "    print(i, end=' ')"
   ]
  },
  {
   "cell_type": "code",
   "execution_count": null,
   "metadata": {},
   "outputs": [],
   "source": []
  }
 ],
 "metadata": {
  "kernelspec": {
   "display_name": "DL_gallery",
   "language": "python",
   "name": "dl_gallery"
  },
  "language_info": {
   "codemirror_mode": {
    "name": "ipython",
    "version": 3
   },
   "file_extension": ".py",
   "mimetype": "text/x-python",
   "name": "python",
   "nbconvert_exporter": "python",
   "pygments_lexer": "ipython3",
   "version": "3.6.10"
  }
 },
 "nbformat": 4,
 "nbformat_minor": 2
}
